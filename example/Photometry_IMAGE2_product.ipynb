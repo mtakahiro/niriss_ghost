{
 "cells": [
  {
   "cell_type": "markdown",
   "metadata": {},
   "source": [
    "## This is an example notebook to retrieve photometric catalog from IMAGE2 products by runnig photutils on _cal.fits files."
   ]
  },
  {
   "cell_type": "code",
   "execution_count": null,
   "metadata": {},
   "outputs": [],
   "source": [
    "import glob\n",
    "import os\n",
    "import argparse\n",
    "from astropy.io import fits\n",
    "#try:\n",
    "from configobj import ConfigObj\n",
    "#except ModuleNotFoundError:\n",
    "#from jwst.extern.configobj.configobj import ConfigObj\n",
    "\n",
    "from jwst.pipeline import collect_pipeline_cfgs\n",
    "from jwst.pipeline import Detector1Pipeline\n",
    "from jwst.pipeline import Image2Pipeline\n",
    "from jwst.pipeline import Image3Pipeline\n",
    "from jwst.pipeline import Spec2Pipeline\n",
    "from jwst.pipeline import Spec3Pipeline\n",
    "\n",
    "import yaml"
   ]
  },
  {
   "cell_type": "code",
   "execution_count": null,
   "metadata": {},
   "outputs": [],
   "source": [
    "import jwst\n",
    "jwst.__version__"
   ]
  },
  {
   "cell_type": "code",
   "execution_count": null,
   "metadata": {},
   "outputs": [],
   "source": [
    "# Define some fancy function, if you want;\n",
    "TERM = os.get_terminal_size()\n",
    "SYM = \"~\"\n",
    "def printnice(level):\n",
    "    \"\"\"\n",
    "    Print the current pipeline level and make it nice :)\n",
    "    Args:\n",
    "        level (str): The thing you want to print nicely.\n",
    "    \"\"\"\n",
    "\n",
    "    print(\"\\n\", SYM*TERM.columns, \"\\n\", SYM, level.center(TERM.columns-2), SYM, \"\\n\", SYM*TERM.columns, \"\\n\", sep=\"\")"
   ]
  },
  {
   "cell_type": "code",
   "execution_count": null,
   "metadata": {},
   "outputs": [],
   "source": [
    "### Make a directory for reduced products;\n",
    "DIR_RED = './reduced/'\n",
    "if not os.path.exists(DIR_RED):\n",
    "    os.mkdir(DIR_RED)\n"
   ]
  },
  {
   "cell_type": "code",
   "execution_count": null,
   "metadata": {},
   "outputs": [],
   "source": [
    "import astropy.wcs as wcs\n",
    "import numpy as np\n",
    "import matplotlib.pyplot as plt\n",
    "from photutils import Background2D, MedianBackground, detect_sources, deblend_sources, source_properties\n",
    "from astropy.stats import gaussian_fwhm_to_sigma\n",
    "from astropy.convolution import Gaussian2DKernel\n",
    "\n",
    "images_cal = glob.glob('%s*_nis_cal.fits'%(DIR_RED))\n",
    "\n",
    "for image_cal in images_cal[:]:\n",
    "\n",
    "    hdu = fits.open(image_cal)\n",
    "    data = hdu[1].data\n",
    "    imwcs = wcs.WCS(hdu[1].header, hdu)\n",
    "    err = hdu[2].data\n",
    "\n",
    "    # Measure background and set detection threshold\n",
    "    bkg_estimator = MedianBackground()\n",
    "    bkg = Background2D(data, (50, 50), filter_size=(3, 3), bkg_estimator=bkg_estimator)\n",
    "    #threshold = bkg.background + (15. * bkg.background_rms)\n",
    "    threshold = bkg.background + (10. * bkg.background_rms)\n",
    "\n",
    "    # Before detection, smooth image with Gaussian FWHM = n pixels\n",
    "    sigma = 1.5 * gaussian_fwhm_to_sigma  \n",
    "\n",
    "    kernel = Gaussian2DKernel(sigma)#, x_size=5, y_size=5)\n",
    "    kernel.normalize()\n",
    "\n",
    "    # Detect and deblend\n",
    "    segm_detect = detect_sources(data, threshold, npixels=20)#, filter_kernel=kernel)\n",
    "\n",
    "    # Save segmentation map of detected objects\n",
    "    segm_hdu = fits.PrimaryHDU(segm_detect.data.astype(np.uint32), header=imwcs.to_header())\n",
    "    segm_hdu.writeto(image_cal.replace('_cal.fits','_cal_seg.fits'), overwrite=True)\n",
    "    \n",
    "    # Save cat;\n",
    "    cat = source_properties(data-bkg.background, segm_detect, wcs=imwcs, background=bkg.background, error=err)\n",
    "    tbl = cat.to_table()#columns=columns)\n",
    "\n",
    "    tbl.write(image_cal.replace('_cal.fits', '_cat_man.ecsv'), format='ascii.ecsv',overwrite=True)\n",
    "\n",
    "\n"
   ]
  }
 ],
 "metadata": {
  "kernelspec": {
   "display_name": "Python 3",
   "language": "python",
   "name": "python3"
  },
  "language_info": {
   "codemirror_mode": {
    "name": "ipython",
    "version": 3
   },
   "file_extension": ".py",
   "mimetype": "text/x-python",
   "name": "python",
   "nbconvert_exporter": "python",
   "pygments_lexer": "ipython3",
   "version": "3.7.10"
  }
 },
 "nbformat": 4,
 "nbformat_minor": 4
}

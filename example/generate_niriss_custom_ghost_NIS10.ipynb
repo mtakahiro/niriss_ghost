{
 "cells": [
  {
   "cell_type": "markdown",
   "metadata": {},
   "source": [
    "## This notebook demonstrates how to provide a custom stamp for ghost simulation in Mirage."
   ]
  },
  {
   "cell_type": "code",
   "execution_count": null,
   "metadata": {},
   "outputs": [],
   "source": [
    "%load_ext autoreload\n",
    "%autoreload 2"
   ]
  },
  {
   "cell_type": "code",
   "execution_count": null,
   "metadata": {},
   "outputs": [],
   "source": [
    "import os\n",
    "import yaml\n",
    "import matplotlib.pyplot as plt\n",
    "from matplotlib.colors import LogNorm\n",
    "import numpy as np\n",
    "from glob import glob\n",
    "import jwst\n",
    "\n",
    "from astropy.io import fits,ascii\n",
    "from astropy.modeling import models, fitting\n",
    "from astropy.table import QTable, Table, Column\n"
   ]
  },
  {
   "cell_type": "code",
   "execution_count": null,
   "metadata": {},
   "outputs": [],
   "source": [
    "# Deconstruct;\n",
    "from NIRCAM_Gsim.grism_seed_disperser import Grism_seed\n",
    "from mirage.seed_image import catalog_seed_image\n",
    "from mirage.yaml import yaml_generator\n",
    "from mirage import imaging_simulator\n",
    "from mirage.ramp_generator import obs_generator\n",
    "from mirage.dark import dark_prep\n"
   ]
  },
  {
   "cell_type": "code",
   "execution_count": null,
   "metadata": {},
   "outputs": [],
   "source": [
    "jwst.__version__"
   ]
  },
  {
   "cell_type": "code",
   "execution_count": null,
   "metadata": {},
   "outputs": [],
   "source": [
    "import mirage\n",
    "mirage.__version__"
   ]
  },
  {
   "cell_type": "code",
   "execution_count": null,
   "metadata": {
    "scrolled": true
   },
   "outputs": [],
   "source": [
    "# Get yaml file;\n",
    "# Both GCANUCS and GLASS are Medium dither pattern.\n",
    "xml_file      = './files/1085.xml' \n",
    "pointing_file = './files/1085.pointing'\n",
    "\n",
    "# Yaml output directory;\n",
    "yaml_output_dir = './yaml_custom/'\n",
    "if not os.path.exists(yaml_output_dir):\n",
    "    os.mkdir(yaml_output_dir)\n",
    "    \n",
    "# Setup miscs:\n",
    "file_point_name = './files/stars_example.txt' #'/ifs/jwst/wit/niriss/kevin/new_focus_field/stars_new_focus_field_allfilters.txt'\n",
    "catalogs = {'point_source': file_point_name}\n",
    "\n",
    "reffile_defaults = 'crds'\n",
    "cosmic_rays = {'library': 'SUNMAX', 'scale': 1.0}\n",
    "dates = '2022-07-01'\n",
    "pav3 = 0\n",
    "background = 'low'\n",
    "simulations_output_dir = 'output_custom'\n",
    "datatype = 'raw'\n"
   ]
  },
  {
   "cell_type": "code",
   "execution_count": null,
   "metadata": {},
   "outputs": [],
   "source": [
    "# Your postage stamp for ghost;\n",
    "file_stamp_gst = './files/ghost_stamp.fits'\n"
   ]
  },
  {
   "cell_type": "code",
   "execution_count": null,
   "metadata": {},
   "outputs": [],
   "source": [
    "## Tweak extended catalog, to switch ghost stamp to an arbitrary one;\n",
    "\n",
    "file_point_name_new = './files/stars_example_new.txt' #'/ifs/jwst/wit/niriss/kevin/new_focus_field/stars_new_focus_field_allfilters.txt'\n",
    "fd = ascii.read(file_point_name)\n",
    "ra = fd['x_or_RA']\n",
    "dec = fd['y_or_Dec']\n",
    "\n",
    "source_stamp_files = []\n",
    "for ii in range(len(ra)):\n",
    "    source_stamp_files.append(file_stamp_gst)\n",
    "\n",
    "from mirage.catalogs import catalog_generator as cg\n",
    "cat = cg.PointSourceCatalog(ra=ra, dec=dec, niriss_ghost_stamp=source_stamp_files)\n",
    "\n",
    "niriss_filters = ['f090w','f115w','f150w','f200w']\n",
    "for filt in niriss_filters:\n",
    "    niriss_magnitude = fd['niriss_%s_magnitude'%filt]\n",
    "    cat.add_magnitude_column(niriss_magnitude, instrument='niriss', filter_name='%s'%filt.upper(), magnitude_system='vegamag')\n",
    "cat.save(file_point_name_new)\n",
    "\n",
    "catalogs = {'point_source': file_point_name_new}\n"
   ]
  },
  {
   "cell_type": "code",
   "execution_count": null,
   "metadata": {},
   "outputs": [],
   "source": [
    "# Run the yaml generator\n",
    "yam = yaml_generator.SimInput(input_xml=xml_file, pointing_file=pointing_file,\n",
    "                              catalogs=catalogs, cosmic_rays=cosmic_rays,\n",
    "                              background=background,roll_angle=pav3,\n",
    "                              dates=dates, reffile_defaults=reffile_defaults,\n",
    "                              verbose=True, output_dir=yaml_output_dir,\n",
    "                              simdata_output_dir=simulations_output_dir,\n",
    "                              datatype=datatype,add_ghosts=True)\n",
    "\n",
    "yam.create_inputs()"
   ]
  },
  {
   "cell_type": "code",
   "execution_count": null,
   "metadata": {},
   "outputs": [],
   "source": [
    "# This is output directory;\n",
    "DIR_OUT = './output_custom/'\n",
    "if not os.path.exists(DIR_OUT):\n",
    "    os.mkdir(DIR_OUT)\n"
   ]
  },
  {
   "cell_type": "markdown",
   "metadata": {},
   "source": [
    "# Run simulator"
   ]
  },
  {
   "cell_type": "code",
   "execution_count": null,
   "metadata": {},
   "outputs": [],
   "source": [
    "pfiles = glob('%s/*01101_*_nis.yaml'%yaml_output_dir)\n",
    "pfiles"
   ]
  },
  {
   "cell_type": "markdown",
   "metadata": {},
   "source": [
    "### Create scene:"
   ]
  },
  {
   "cell_type": "code",
   "execution_count": null,
   "metadata": {},
   "outputs": [],
   "source": [
    "yaml_WFSS_files = []\n",
    "yaml_NIRISS_imaging_files = []\n",
    "\n",
    "for f in pfiles:\n",
    "    my_dict = yaml.safe_load(open(f))\n",
    "    if my_dict[\"Inst\"][\"mode\"]==\"wfss\":\n",
    "        yaml_WFSS_files.append(f)\n",
    "    if my_dict[\"Inst\"][\"mode\"]==\"imaging\" and my_dict['Inst']['instrument']=='NIRISS':\n",
    "        yaml_NIRISS_imaging_files.append(f)\n",
    "    \n",
    "print(\"WFSS files:\",len(yaml_WFSS_files))\n",
    "print(\"Imaging files:\",len(yaml_NIRISS_imaging_files))\n",
    "\n",
    "yaml_NIRISS_imaging_files"
   ]
  },
  {
   "cell_type": "code",
   "execution_count": null,
   "metadata": {
    "scrolled": true
   },
   "outputs": [],
   "source": [
    "# Direct images;\n",
    "for file in yaml_NIRISS_imaging_files[:1]:\n",
    "    img_sim = imaging_simulator.ImgSim()\n",
    "    img_sim.paramfile = file\n",
    "    img_sim.create()\n",
    "    "
   ]
  },
  {
   "cell_type": "code",
   "execution_count": null,
   "metadata": {},
   "outputs": [],
   "source": [
    "# WFSS;\n",
    "from mirage import wfss_simulator\n",
    "\n",
    "for file in yaml_WFSS_files[:1]:\n",
    "    m = wfss_simulator.WFSSSim(file, override_dark=None, save_dispersed_seed=True,\n",
    "                               extrapolate_SED=None, disp_seed_filename=None, source_stamps_file=None,\n",
    "                               SED_file=None, SED_normalizing_catalog_column=None, SED_dict=None,\n",
    "                               create_continuum_seds=True)\n",
    "    \n",
    "    m.create()\n"
   ]
  },
  {
   "cell_type": "code",
   "execution_count": null,
   "metadata": {},
   "outputs": [],
   "source": [
    "file_seed = 'output_custom/jw01085001001_01101_00001_nis_uncal_CLEAR_F150W_final_seed_image.fits'\n",
    "fd = fits.open(file_seed)[1].data\n",
    "\n",
    "gaps = [1162.600, 937.900]\n",
    "\n",
    "plt.plot(gaps[0], gaps[1], marker='x', color='orange', ms=10)\n",
    "plt.imshow(fd, vmin=.1, vmax=3)\n",
    "plt.xlim(850,1450)\n",
    "plt.ylim(620,1220)\n",
    "\n",
    "plt.savefig('ghost_custom_demo.png', dpi=200)\n"
   ]
  }
 ],
 "metadata": {
  "kernelspec": {
   "display_name": "Python 3",
   "language": "python",
   "name": "python3"
  },
  "language_info": {
   "codemirror_mode": {
    "name": "ipython",
    "version": 3
   },
   "file_extension": ".py",
   "mimetype": "text/x-python",
   "name": "python",
   "nbconvert_exporter": "python",
   "pygments_lexer": "ipython3",
   "version": "3.6.7"
  }
 },
 "nbformat": 4,
 "nbformat_minor": 2
}

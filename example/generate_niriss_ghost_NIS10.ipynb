{
 "cells": [
  {
   "cell_type": "markdown",
   "metadata": {},
   "source": [
    "## This notebook demonstrates how to use the ghost module implemented in Mirage.\n",
    "### The baseline scene is the focus field (NAP-10) with dominated by many bright stars, which is consequently dominated by ghosts\n",
    "(But here we only simulate subset of the sources to save time.)"
   ]
  },
  {
   "cell_type": "code",
   "execution_count": null,
   "metadata": {},
   "outputs": [],
   "source": [
    "%load_ext autoreload\n",
    "%autoreload 2"
   ]
  },
  {
   "cell_type": "code",
   "execution_count": null,
   "metadata": {},
   "outputs": [],
   "source": [
    "import os\n",
    "import yaml\n",
    "import matplotlib.pyplot as plt\n",
    "from matplotlib.colors import LogNorm\n",
    "import numpy as np\n",
    "from glob import glob\n",
    "import jwst\n",
    "\n",
    "from astropy.io import fits,ascii\n",
    "from astropy.modeling import models, fitting\n",
    "from astropy.table import QTable, Table, Column\n"
   ]
  },
  {
   "cell_type": "code",
   "execution_count": null,
   "metadata": {},
   "outputs": [],
   "source": [
    "# Deconstruct;\n",
    "from NIRCAM_Gsim.grism_seed_disperser import Grism_seed\n",
    "from mirage.seed_image import catalog_seed_image\n",
    "from mirage.yaml import yaml_generator\n",
    "from mirage import imaging_simulator\n",
    "from mirage import wfss_simulator\n",
    "from mirage.ramp_generator import obs_generator\n",
    "from mirage.dark import dark_prep\n"
   ]
  },
  {
   "cell_type": "code",
   "execution_count": null,
   "metadata": {},
   "outputs": [],
   "source": [
    "jwst.__version__"
   ]
  },
  {
   "cell_type": "code",
   "execution_count": null,
   "metadata": {},
   "outputs": [],
   "source": [
    "import mirage\n",
    "mirage.__version__"
   ]
  },
  {
   "cell_type": "markdown",
   "metadata": {},
   "source": [
    "## 1. Create yaml files based on APT output files\n",
    "If users can provide a set of yaml files, then you can skip this part."
   ]
  },
  {
   "cell_type": "code",
   "execution_count": null,
   "metadata": {},
   "outputs": [],
   "source": [
    "# This is input directory;\n",
    "DIR_INP = './files/'\n",
    "\n",
    "# This is output directory;\n",
    "DIR_OUT = './output/'\n",
    "if not os.path.exists(DIR_OUT):\n",
    "    os.mkdir(DIR_OUT)\n"
   ]
  },
  {
   "cell_type": "code",
   "execution_count": null,
   "metadata": {
    "scrolled": true
   },
   "outputs": [],
   "source": [
    "# Get yaml file;\n",
    "# Those should be retrieved from APT.\n",
    "xml_file      = './files/1085.xml' \n",
    "pointing_file = './files/1085.pointing'\n",
    "\n",
    "# Set output directory for Yaml;\n",
    "yaml_output_dir = './yaml/'\n",
    "if not os.path.exists(yaml_output_dir):\n",
    "    os.mkdir(yaml_output_dir)\n",
    "\n",
    "    \n",
    "# Setup misc.:\n",
    "\n",
    "## Source catalog;\n",
    "file_point_name = './files/stars_example.txt' \n",
    "catalogs = {'point_source': file_point_name}\n",
    "\n",
    "reffile_defaults = 'crds'\n",
    "cosmic_rays = {'library': 'SUNMAX', 'scale': 1.0}\n",
    "dates = '2022-07-01'\n",
    "\n",
    "pav3 = 0\n",
    "background = 'low'\n",
    "simulations_output_dir = 'output'\n",
    "datatype = 'raw'\n",
    "\n",
    "\n",
    "# Run the yaml generator\n",
    "\n",
    "yam = yaml_generator.SimInput(input_xml=xml_file, pointing_file=pointing_file,\n",
    "                              catalogs=catalogs, cosmic_rays=cosmic_rays,\n",
    "                              background=background,roll_angle=pav3,\n",
    "                              dates=dates, reffile_defaults=reffile_defaults,\n",
    "                              verbose=True, output_dir=yaml_output_dir,\n",
    "                              simdata_output_dir=simulations_output_dir,\n",
    "                              datatype=datatype,add_ghosts=True)\n",
    "\n",
    "yam.create_inputs()"
   ]
  },
  {
   "cell_type": "markdown",
   "metadata": {},
   "source": [
    "## 2. Run simulator"
   ]
  },
  {
   "cell_type": "code",
   "execution_count": null,
   "metadata": {},
   "outputs": [],
   "source": [
    "pfiles = glob('%s/*01101_*_nis.yaml'%yaml_output_dir)\n",
    "pfiles"
   ]
  },
  {
   "cell_type": "code",
   "execution_count": null,
   "metadata": {},
   "outputs": [],
   "source": [
    "yaml_WFSS_files = []\n",
    "yaml_NIRISS_imaging_files = []\n",
    "\n",
    "for f in pfiles:\n",
    "    my_dict = yaml.safe_load(open(f))\n",
    "    if my_dict[\"Inst\"][\"mode\"]==\"wfss\":\n",
    "        yaml_WFSS_files.append(f)\n",
    "    if my_dict[\"Inst\"][\"mode\"]==\"imaging\" and my_dict['Inst']['instrument']=='NIRISS':\n",
    "        yaml_NIRISS_imaging_files.append(f)\n",
    "    \n",
    "print(\"WFSS files:\",len(yaml_WFSS_files))\n",
    "print(\"Imaging files:\",len(yaml_NIRISS_imaging_files))"
   ]
  },
  {
   "cell_type": "code",
   "execution_count": null,
   "metadata": {},
   "outputs": [],
   "source": [
    "yaml_NIRISS_imaging_files"
   ]
  },
  {
   "cell_type": "code",
   "execution_count": null,
   "metadata": {
    "scrolled": true
   },
   "outputs": [],
   "source": [
    "# Direct images;\n",
    "\n",
    "for file in yaml_NIRISS_imaging_files[:1]:\n",
    "    img_sim = imaging_simulator.ImgSim()\n",
    "    img_sim.paramfile = file\n",
    "    img_sim.create()\n",
    "    "
   ]
  },
  {
   "cell_type": "code",
   "execution_count": null,
   "metadata": {},
   "outputs": [],
   "source": [
    "# WFSS;\n",
    "\n",
    "for file in yaml_WFSS_files[:]:\n",
    "    m = wfss_simulator.WFSSSim(file, override_dark=None, save_dispersed_seed=True,\n",
    "                               extrapolate_SED=None, disp_seed_filename=None, source_stamps_file=None,\n",
    "                               SED_file=None, SED_normalizing_catalog_column=None, SED_dict=None,\n",
    "                               create_continuum_seds=True)\n",
    "    \n",
    "    m.create()\n"
   ]
  },
  {
   "cell_type": "markdown",
   "metadata": {},
   "source": [
    "### Done!"
   ]
  },
  {
   "cell_type": "code",
   "execution_count": null,
   "metadata": {},
   "outputs": [],
   "source": []
  }
 ],
 "metadata": {
  "kernelspec": {
   "display_name": "Python 3",
   "language": "python",
   "name": "python3"
  },
  "language_info": {
   "codemirror_mode": {
    "name": "ipython",
    "version": 3
   },
   "file_extension": ".py",
   "mimetype": "text/x-python",
   "name": "python",
   "nbconvert_exporter": "python",
   "pygments_lexer": "ipython3",
   "version": "3.6.12"
  }
 },
 "nbformat": 4,
 "nbformat_minor": 2
}
